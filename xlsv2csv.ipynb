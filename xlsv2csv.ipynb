{
 "cells": [
  {
   "cell_type": "code",
   "execution_count": 3,
   "metadata": {},
   "outputs": [
    {
     "name": "stdout",
     "output_type": "stream",
     "text": [
      "Requirement already satisfied: xlrd in c:\\users\\saama\\anaconda3\\envs\\health_cs\\lib\\site-packages (2.0.1)\n",
      "Collecting openpyxl\n",
      "  Downloading openpyxl-3.0.9-py2.py3-none-any.whl (242 kB)\n",
      "Collecting et-xmlfile\n",
      "  Downloading et_xmlfile-1.1.0-py3-none-any.whl (4.7 kB)\n",
      "Installing collected packages: et-xmlfile, openpyxl\n",
      "Successfully installed et-xmlfile-1.1.0 openpyxl-3.0.9\n"
     ]
    }
   ],
   "source": [
    "!pip install xlrd\n",
    "\n",
    "!pip install openpyxl"
   ]
  },
  {
   "cell_type": "code",
   "execution_count": 6,
   "metadata": {},
   "outputs": [],
   "source": [
    "import xlrd \n",
    "import csv\n",
    "import pandas as pd\n",
    "data = pd.read_excel('Diseases\\disease.xlsx', sheet_name=None)\n",
    "\n",
    "# loop through the dictionary and save csv\n",
    "for sheet_name, df in data.items():\n",
    "    df.to_csv(f'Disease_csv\\{sheet_name}.csv')"
   ]
  }
 ],
 "metadata": {
  "interpreter": {
   "hash": "913bfc934c5d51f3bd63a8971eefdbfce5f242ff8c56f42d08177f017dcd4462"
  },
  "kernelspec": {
   "display_name": "Python 3.9.7 64-bit ('Health_CS': conda)",
   "language": "python",
   "name": "python3"
  },
  "language_info": {
   "codemirror_mode": {
    "name": "ipython",
    "version": 3
   },
   "file_extension": ".py",
   "mimetype": "text/x-python",
   "name": "python",
   "nbconvert_exporter": "python",
   "pygments_lexer": "ipython3",
   "version": "3.9.7"
  },
  "orig_nbformat": 4
 },
 "nbformat": 4,
 "nbformat_minor": 2
}
