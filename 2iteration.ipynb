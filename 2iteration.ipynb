{
 "cells": [
  {
   "cell_type": "code",
   "execution_count": null,
   "metadata": {},
   "outputs": [],
   "source": [
    "def get_all_csv(specific_path):\n",
    "    path = os.getcwd()\n",
    "    csv_files = glob.glob(os.path.join(path,specific_path,\"*.csv\"))\n",
    "    return csv_files"
   ]
  },
  {
   "cell_type": "code",
   "execution_count": null,
   "metadata": {},
   "outputs": [],
   "source": [
    "CSV_FILES = get_all_csv(\"testLine\")\n",
    "csv_file = []\n",
    "for f in CSV_FILES:\n",
    "    csv_file.append(f)\n",
    "#print(csv_file)\n",
    "f = plt.figure()\n",
    "#plt.autoscale()\n",
    "for i in range(len(csv_file)):\n",
    "    x = pd.read_csv(csv_file[i-1])\n",
    "    df = pd.DataFrame(x)\n",
    "    #print(df)\n",
    "    df['Value'].dropna()\n",
    "    #print(df)\n",
    "    df['variance']=(df['Value']-df.mean()['Value'])/df.std()['Value']\n",
    "    #variance = df.var()['Value']\n",
    "    #Variance = df['Value'] - variance \n",
    "    '''df['Value']*'''\n",
    "    #df['variance'] = Variance\n",
    "    splitf = csv_file[i-1].split(os.path.sep)\n",
    "    \n",
    "    #plt.legend(splitf[-1].split('.')[0])\n",
    "    plt.plot(df['Location'].tolist(), df['variance'].tolist(), label = splitf[-1].split('.')[0])\n",
    "    #art.Artist.set_label(csv_file)\n",
    "    \n",
    "    f.set_figwidth(40)\n",
    "    f.set_figheight(10)\n",
    "plt.xticks(rotation = 75, fontsize = 20)\n",
    "plt.legend(loc='best', bbox_to_anchor=(.1, 0, 1, 1),fontsize = 20)"
   ]
  }
 ],
 "metadata": {
  "language_info": {
   "name": "python"
  },
  "orig_nbformat": 4
 },
 "nbformat": 4,
 "nbformat_minor": 2
}
